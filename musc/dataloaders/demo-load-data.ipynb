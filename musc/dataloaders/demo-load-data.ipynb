{
 "cells": [
  {
   "cell_type": "code",
   "execution_count": 1,
   "metadata": {},
   "outputs": [],
   "source": [
    "from musc.dataloaders.load_lodopab_ct import get_dataloaders_ct\n"
   ]
  },
  {
   "cell_type": "code",
   "execution_count": 2,
   "metadata": {},
   "outputs": [
    {
     "data": {
      "text/plain": [
       "<function musc.dataloaders.load_lodopab_ct.get_dataloaders_ct(batch_size: int = 1, num_workers: int = 0, cache_dir: Union[str, os.PathLike] = '/home/liu0003/Desktop/datasets/cache_lodopab', include_validation: bool = True, train_percent: int = 100, validation_len: int = 100, test_len: int = 100)>"
      ]
     },
     "execution_count": 2,
     "metadata": {},
     "output_type": "execute_result"
    }
   ],
   "source": [
    "get_dataloaders_ct"
   ]
  }
 ],
 "metadata": {
  "kernelspec": {
   "display_name": "musc",
   "language": "python",
   "name": "python3"
  },
  "language_info": {
   "codemirror_mode": {
    "name": "ipython",
    "version": 3
   },
   "file_extension": ".py",
   "mimetype": "text/x-python",
   "name": "python",
   "nbconvert_exporter": "python",
   "pygments_lexer": "ipython3",
   "version": "3.9.16"
  },
  "orig_nbformat": 4
 },
 "nbformat": 4,
 "nbformat_minor": 2
}
